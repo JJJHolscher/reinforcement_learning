{
 "cells": [
  {
   "cell_type": "markdown",
   "metadata": {},
   "source": [
    "# Reinforcement Learning - Monte Carlo\n",
    "If you want to test/submit your solution **restart the kernel, run all cells and submit the mc_autograde.py file into codegrade.**"
   ]
  },
  {
   "cell_type": "code",
   "execution_count": 1,
   "metadata": {},
   "outputs": [],
   "source": [
    "# This cell imports %%execwritefile command (executes cell and writes it into file). \n",
    "# All cells that start with %%execwritefile should be in mc_autograde.py file after running all cells.\n",
    "from custommagics import CustomMagics\n",
    "get_ipython().register_magics(CustomMagics)"
   ]
  },
  {
   "cell_type": "code",
   "execution_count": 2,
   "metadata": {},
   "outputs": [
    {
     "name": "stdout",
     "output_type": "stream",
     "text": [
      "Overwriting mc_autograde.py\n"
     ]
    }
   ],
   "source": [
    "%%execwritefile mc_autograde.py\n",
    "import numpy as np\n",
    "from collections import defaultdict\n",
    "from tqdm import tqdm as _tqdm\n",
    "\n",
    "def tqdm(*args, **kwargs):\n",
    "    return _tqdm(*args, **kwargs, mininterval=1)  # Safety, do not overflow buffer"
   ]
  },
  {
   "cell_type": "code",
   "execution_count": 3,
   "metadata": {},
   "outputs": [],
   "source": [
    "import matplotlib.pyplot as plt\n",
    "import sys\n",
    "\n",
    "\n",
    "%matplotlib inline\n",
    "\n",
    "assert sys.version_info[:3] >= (3, 6, 0), \"Make sure you have Python 3.6 installed!\""
   ]
  },
  {
   "cell_type": "markdown",
   "metadata": {
    "nbgrader": {
     "grade": false,
     "grade_id": "cell-7ab207a9f93cf4d3",
     "locked": true,
     "schema_version": 1,
     "solution": false
    }
   },
   "source": [
    "## 1. Monte Carlo Prediction"
   ]
  },
  {
   "cell_type": "markdown",
   "metadata": {
    "nbgrader": {
     "grade": false,
     "grade_id": "cell-5f0c1d608436b67b",
     "locked": true,
     "schema_version": 1,
     "solution": false
    }
   },
   "source": [
    "For the Monte Carlo Prediction we will look at the Blackjack game (Example 5.1 from the book), for which the `BlackjackEnv` is implemented in `blackjack.py`. Note that compared to the gridworld, the state is no longer a single integer, which is why we use a dictionary to represent the value function instead of a numpy array. By using `defaultdict`, each state gets a default value of 0."
   ]
  },
  {
   "cell_type": "code",
   "execution_count": 4,
   "metadata": {
    "nbgrader": {
     "grade": false,
     "grade_id": "cell-a342b69fcfdea5b2",
     "locked": true,
     "schema_version": 1,
     "solution": false
    }
   },
   "outputs": [],
   "source": [
    "from blackjack import BlackjackEnv\n",
    "env = BlackjackEnv()"
   ]
  },
  {
   "cell_type": "markdown",
   "metadata": {},
   "source": [
    "For the Monte Carlo algorithm, we no longer have transition probabilities and we need to *interact* with the environment. This means that we start an episode by using `env.reset` and send the environment actions via `env.step` to observe the reward and next observation (state)."
   ]
  },
  {
   "cell_type": "code",
   "execution_count": 5,
   "metadata": {
    "nbgrader": {
     "grade": false,
     "grade_id": "cell-85356add2643980e",
     "locked": true,
     "schema_version": 1,
     "solution": false
    }
   },
   "outputs": [],
   "source": [
    "# So let's have a look at what we can do in general with an environment...\n",
    "import gym\n",
    "?gym.Env"
   ]
  },
  {
   "cell_type": "code",
   "execution_count": 6,
   "metadata": {
    "nbgrader": {
     "grade": false,
     "grade_id": "cell-251b7b17c5d08a24",
     "locked": true,
     "schema_version": 1,
     "solution": false
    }
   },
   "outputs": [],
   "source": [
    "# We can also look at the documentation/implementation of a method\n",
    "?env.step"
   ]
  },
  {
   "cell_type": "code",
   "execution_count": 7,
   "metadata": {},
   "outputs": [],
   "source": [
    "?env.reset"
   ]
  },
  {
   "cell_type": "code",
   "execution_count": 8,
   "metadata": {
    "nbgrader": {
     "grade": false,
     "grade_id": "cell-6decb2ab83c5bcec",
     "locked": true,
     "schema_version": 1,
     "solution": false
    }
   },
   "outputs": [],
   "source": [
    "??BlackjackEnv"
   ]
  },
  {
   "cell_type": "markdown",
   "metadata": {
    "nbgrader": {
     "grade": false,
     "grade_id": "cell-ae161126d3cb1b7b",
     "locked": true,
     "schema_version": 1,
     "solution": false
    }
   },
   "source": [
    "A very simple policy for Blackjack is to *stick* if we have 20 or 21 points and *hit* otherwise. We want to know how good this policy is. This policy is *deterministic* and therefore a function that maps an observation to a single action. Technically, we can implement this as a dictionary , a function or a class with a function, where we use the last option. Moreover, it is often useful (as you will see later) to implement a function that returns  the probability $\\pi(a|s)$ for the state action pair (the probability that this policy would perform certain action in given state). We group these two functions in a policy class. To get started, let's implement this simple policy for BlackJack."
   ]
  },
  {
   "cell_type": "code",
   "execution_count": 9,
   "metadata": {
    "nbgrader": {
     "grade": false,
     "grade_id": "cell-9fdcb503df9cdb08",
     "locked": false,
     "schema_version": 1,
     "solution": true
    }
   },
   "outputs": [
    {
     "name": "stdout",
     "output_type": "stream",
     "text": [
      "Appending to mc_autograde.py\n"
     ]
    }
   ],
   "source": [
    "%%execwritefile -a mc_autograde.py\n",
    "\n",
    "class SimpleBlackjackPolicy(object):\n",
    "    \n",
    "#     print(\"object\", object)\n",
    "    \"\"\"\n",
    "    A simple BlackJack policy that sticks with 20 or 21 points and hits otherwise.\n",
    "    \"\"\"\n",
    "    \n",
    "    def get_probs(self, state, actions):\n",
    "\n",
    "\n",
    "#         print(\"state\", state)\n",
    "#         print(\"actions\", actions)\n",
    "        \"\"\"\n",
    "        je krijgt dus de state binnen en dan alle mogelijk acties voor die state. \n",
    "        Hit or stick. Je moet dan per actie de kans bepalen dat je die actie gaat uitvoeren\n",
    "        This method takes a list of states and a list of actions and returns a numpy array that contains a probability\n",
    "        of perfoming action in given state for every corresponding state action pair. \n",
    "\n",
    "        Args:\n",
    "            states: a list of states.\n",
    "            actions: a list of actions.\n",
    "\n",
    "        Returns:\n",
    "            Numpy array filled with probabilities (same length as states and actions)\n",
    "        \"\"\"\n",
    "        \n",
    "        probs = []\n",
    "\n",
    "# loop door de states\n",
    "# bekijke wat de state waarde \n",
    "# loop door acties\n",
    "# als je actie hit zou zijn obv state en dat is ook de actie die je binnen krijgt > zet prob op 100\n",
    "# anders zet prob op 0\n",
    "\n",
    "\n",
    "        for action in actions:\n",
    "#             print(\"state[0]\", state[0])\n",
    "            hand_sum = state[0][0]\n",
    "#             print(\"HAND SUM\", hand_sum)\n",
    "            \n",
    "#             print(\"current state\", hand_sum)\n",
    "#             print(\"current action\", action)\n",
    "                \n",
    "#               nu wil je stoppen dus action = 0\n",
    "            if hand_sum < 20:\n",
    "                recommended_action = 1\n",
    "\n",
    "#                   als wat je zou aanbevelen en wat de gebruiker wilt overeenkomen, prob > 100 procent\n",
    "                if recommended_action == action:\n",
    "\n",
    "                    probs.append(1)\n",
    "                    \n",
    "                else:\n",
    "                    probs.append(0)\n",
    "\n",
    "\n",
    "            if hand_sum == 20 or hand_sum == 21:\n",
    "                recommended_action = 0\n",
    "\n",
    "                if recommended_action == action:\n",
    "\n",
    "                    probs.append(1)\n",
    "                else:\n",
    "                    probs.append(0)\n",
    "\n",
    "                        \n",
    "#         print(\"END PROBS\", probs)\n",
    "        return np.array(probs)\n",
    "    \n",
    "    def sample_action(self, state):\n",
    "#         print(\"current state\", state)\n",
    "        \"\"\"\n",
    "        This method takes a state as input and returns an action sampled from this policy.  \n",
    "\n",
    "        Args:\n",
    "            state: current state\n",
    "\n",
    "        Returns:\n",
    "            An action (int).\n",
    "        \"\"\"\n",
    "#       hit\n",
    "        if state[0] < 20:\n",
    "            action = 1\n",
    "\n",
    "#       stick\n",
    "        if state[0] == 20 or state[0] == 21:\n",
    "            action = 0\n",
    "\n",
    "    \n",
    "        \n",
    "        return action\n",
    "     \n"
   ]
  },
  {
   "cell_type": "code",
   "execution_count": 10,
   "metadata": {
    "nbgrader": {
     "grade": true,
     "grade_id": "cell-99f02e2d9b338a5b",
     "locked": true,
     "points": 1,
     "schema_version": 1,
     "solution": false
    }
   },
   "outputs": [
    {
     "name": "stdout",
     "output_type": "stream",
     "text": [
      "State: (13, 9, False)\n",
      "Sampled Action: 1\n",
      "Probabilities [stick, hit]: [0 1]\n"
     ]
    }
   ],
   "source": [
    "# Let's check if it makes sense\n",
    "env = BlackjackEnv()\n",
    "s = env.reset()\n",
    "policy = SimpleBlackjackPolicy()\n",
    "print(\"State: {}\\nSampled Action: {}\\nProbabilities [stick, hit]: {}\".format(s, policy.sample_action(s), policy.get_probs([s,s],[0,1])))"
   ]
  },
  {
   "cell_type": "markdown",
   "metadata": {},
   "source": [
    "Since there are multiple algorithms which require data from single episode (or multiple episodes) it is often useful to write a routine that will sample a single episode. This will save us some time later. Implement a *sample_episode* function which uses environment and policy to sample a single episode."
   ]
  },
  {
   "cell_type": "code",
   "execution_count": 11,
   "metadata": {},
   "outputs": [
    {
     "name": "stdout",
     "output_type": "stream",
     "text": [
      "Appending to mc_autograde.py\n"
     ]
    }
   ],
   "source": [
    "%%execwritefile -a mc_autograde.py\n",
    "\n",
    "def sample_episode(env, policy):\n",
    "    \"\"\"\n",
    "    A sampling routine. Given environment and a policy samples one episode and returns states, actions, rewards\n",
    "    and dones from environment's step function and policy's sample_action function as lists.\n",
    "\n",
    "    Args:\n",
    "        env: OpenAI gym environment.\n",
    "        policy: A policy which allows us to sample actions with its sample_action method.\n",
    "\n",
    "    Returns:\n",
    "        Tuple of lists (states, actions, rewards, dones). All lists should have same length. \n",
    "        Hint: Do not include the state after the termination in the list of states.\n",
    "    \"\"\"\n",
    "    \n",
    "    states = []\n",
    "    actions = []\n",
    "    rewards = []\n",
    "    dones = []\n",
    "    \n",
    "    done = False\n",
    "\n",
    "\n",
    "    # begin met een starting state en bepaal actie\n",
    "    new_state = env.reset()\n",
    "    states.append(new_state)\n",
    "#     print(\"start\", new_state)\n",
    "    \n",
    "    #voer acties uit en zolang je niet door bent blijf je doorgaan \n",
    "    while done != True:\n",
    "        \n",
    "        action = policy.sample_action(new_state)\n",
    "#         print(\"ACTION\", action)\n",
    "        actions.append(action)\n",
    "\n",
    "#         print(\"ACTION HIER\", action)\n",
    "        try:\n",
    "            if len(action) == 1:\n",
    "                action = action[0]\n",
    "            \n",
    "        except:\n",
    "            None\n",
    "        new_env = env.step(action)\n",
    "#         print(\"new\", new_env)\n",
    "        \n",
    "        done = new_env[2]\n",
    "        dones.append(done)\n",
    "\n",
    "        \n",
    "        \n",
    "        new_state = new_env[0]\n",
    "        \n",
    "        # voeg alleen states toe als je niet in de terminate state bent gekomen .. dit zegt de hint\n",
    "        if done == False:\n",
    "            states.append(new_state)\n",
    "        \n",
    "        \n",
    "        reward = new_env[1]\n",
    "        rewards.append(reward)\n",
    "        \n",
    "\n",
    "    return states, actions, rewards, dones\n",
    "\n"
   ]
  },
  {
   "cell_type": "code",
   "execution_count": 12,
   "metadata": {
    "scrolled": true
   },
   "outputs": [
    {
     "name": "stdout",
     "output_type": "stream",
     "text": [
      "Episode 0:\n",
      "States [(15, 4, False), (21, 4, False)]\n",
      "Actions [1, 0]\n",
      "Rewards [0, 1]\n",
      "Dones [False, True]\n",
      "\n",
      "Episode 1:\n",
      "States [(21, 10, True)]\n",
      "Actions [0]\n",
      "Rewards [1]\n",
      "Dones [True]\n",
      "\n",
      "Episode 2:\n",
      "States [(15, 10, False), (19, 10, False), (20, 10, False)]\n",
      "Actions [1, 1, 0]\n",
      "Rewards [0, 0, -1]\n",
      "Dones [False, False, True]\n",
      "\n"
     ]
    }
   ],
   "source": [
    "# Let's sample some episodes\n",
    "env = BlackjackEnv()\n",
    "policy = SimpleBlackjackPolicy()\n",
    "for episode in range(3):\n",
    "    trajectory_data = sample_episode(env, policy)\n",
    "    print(\"Episode {}:\\nStates {}\\nActions {}\\nRewards {}\\nDones {}\\n\".format(episode,*trajectory_data))"
   ]
  },
  {
   "cell_type": "markdown",
   "metadata": {
    "nbgrader": {
     "grade": false,
     "grade_id": "cell-0184f4c719afb98c",
     "locked": true,
     "schema_version": 1,
     "solution": false
    }
   },
   "source": [
    "Now implement the MC prediction algorithm (either first visit or every visit). Hint: you can use `for i in tqdm(range(num_episodes))` to show a progress bar. Use the sampling function from above to sample data from a single episode."
   ]
  },
  {
   "cell_type": "code",
   "execution_count": 13,
   "metadata": {
    "scrolled": true
   },
   "outputs": [
    {
     "name": "stdout",
     "output_type": "stream",
     "text": [
      "Appending to mc_autograde.py\n"
     ]
    },
    {
     "name": "stderr",
     "output_type": "stream",
     "text": [
      "100%|██████████████████████████████████████████████████████████████████████████████████████████████████████████████████████████████████████████████████████████████████████| 10000/10000 [00:00<00:00, 27320.75it/s]\n"
     ]
    },
    {
     "name": "stdout",
     "output_type": "stream",
     "text": [
      "defaultdict(<class 'float'>, {(19, 3, False): -0.6888888888888889, (20, 3, False): 0.5608108108108109, (17, 10, False): -0.7682926829268293, (20, 9, False): 0.6601307189542484, (21, 9, True): 0.96, (14, 7, False): -0.53, (15, 7, False): -0.4948453608247423, (19, 10, False): -0.7320574162679426, (18, 10, False): -0.6831460674157304, (13, 7, False): -0.5764705882352941, (19, 7, False): -0.6565656565656566, (14, 6, False): -0.44, (20, 6, False): 0.6486486486486487, (16, 8, False): -0.5785123966942148, (14, 5, False): -0.4387755102040816, (16, 5, False): -0.7222222222222222, (13, 4, False): -0.5333333333333333, (15, 4, True): 0.0, (15, 4, False): -0.7244897959183674, (17, 9, False): -0.6822429906542056, (17, 6, False): -0.7314814814814815, (15, 2, False): -0.6310679611650486, (17, 8, False): -0.5116279069767442, (18, 4, True): -0.4666666666666667, (18, 4, False): -0.7282608695652174, (15, 10, False): -0.6666666666666666, (13, 5, False): -0.48, (17, 5, False): -0.6636363636363637, (12, 8, True): -0.6, (14, 8, True): -0.25, (19, 8, True): -0.4583333333333333, (13, 10, False): -0.53954802259887, (12, 4, False): -0.5454545454545454, (14, 4, False): -0.6136363636363636, (14, 10, False): -0.5812807881773399, (21, 10, False): 0.8775510204081632, (16, 3, False): -0.6213592233009708, (12, 7, False): -0.5961538461538461, (18, 7, False): -0.7959183673469388, (20, 1, False): 0.1322314049586777, (14, 3, False): -0.55, (21, 7, True): 0.94, (15, 6, False): -0.672566371681416, (15, 9, False): -0.6875, (16, 9, False): -0.7558139534883721, (16, 2, False): -0.7131147540983607, (12, 10, False): -0.5152439024390244, (20, 10, False): 0.4662045060658579, (16, 10, False): -0.7303921568627451, (21, 4, False): 0.8108108108108109, (19, 9, False): -0.8349514563106796, (19, 1, False): -0.8130841121495327, (13, 3, False): -0.5841584158415841, (21, 1, True): 0.5636363636363636, (18, 7, True): -0.3333333333333333, (18, 6, False): -0.7391304347826086, (13, 8, False): -0.5, (21, 8, False): 0.9024390243902439, (19, 2, False): -0.8611111111111112, (21, 10, True): 0.8761904761904762, (18, 5, False): -0.712, (12, 9, False): -0.5617977528089888, (17, 4, False): -0.6138613861386139, (15, 3, True): -0.07692307692307693, (21, 3, True): 0.8837209302325582, (17, 1, False): -0.7047619047619048, (19, 1, True): -0.68, (14, 1, False): -0.673469387755102, (18, 1, False): -0.7478991596638656, (21, 1, False): 0.6388888888888888, (18, 3, False): -0.71, (20, 5, False): 0.6066666666666667, (18, 2, False): -0.7142857142857143, (12, 1, False): -0.6043956043956044, (13, 1, False): -0.6727272727272727, (15, 1, False): -0.7628865979381443, (14, 8, False): -0.43023255813953487, (15, 5, True): -0.38461538461538464, (15, 5, False): -0.6355140186915887, (21, 9, False): 0.9696969696969697, (20, 7, True): 0.8947368421052632, (19, 10, True): -0.49206349206349204, (20, 4, False): 0.6466666666666666, (13, 3, True): -0.4444444444444444, (14, 2, False): -0.5783132530120482, (12, 3, False): -0.3883495145631068, (16, 7, False): -0.5494505494505495, (21, 7, False): 0.974025974025974, (15, 8, True): -0.2, (15, 8, False): -0.5526315789473685, (20, 7, False): 0.8, (21, 6, True): 0.9069767441860465, (18, 5, True): -0.3333333333333333, (19, 5, True): -0.5, (17, 2, False): -0.8303571428571429, (18, 6, True): -0.375, (15, 2, True): -0.3157894736842105, (18, 2, True): -0.625, (21, 3, False): 0.935064935064935, (16, 6, False): -0.6261682242990654, (17, 9, True): -0.3333333333333333, (18, 9, True): -0.0625, (20, 9, True): 0.9545454545454546, (20, 8, True): 0.7916666666666666, (20, 10, True): 0.3972602739726027, (12, 6, False): -0.5773195876288659, (19, 8, False): -0.5714285714285714, (21, 5, False): 0.9444444444444444, (12, 5, False): -0.5729166666666666, (17, 10, True): -0.20930232558139536, (19, 5, False): -0.6909090909090909, (16, 4, False): -0.6732673267326733, (15, 3, False): -0.75, (19, 3, True): -0.21428571428571427, (20, 8, False): 0.8520710059171598, (18, 9, False): -0.7837837837837838, (13, 2, False): -0.5157894736842106, (13, 6, False): -0.5784313725490197, (12, 2, False): -0.6436781609195402, (19, 6, False): -0.8067226890756303, (14, 7, True): -0.3333333333333333, (19, 4, False): -0.7904761904761904, (16, 1, False): -0.7346938775510204, (18, 10, True): -0.5185185185185185, (19, 9, True): -0.5, (13, 9, False): -0.6666666666666666, (14, 9, False): -0.6382978723404256, (12, 8, False): -0.5368421052631579, (18, 8, False): -0.7256637168141593, (17, 7, False): -0.6938775510204082, (21, 5, True): 0.8541666666666666, (19, 7, True): -0.23076923076923078, (21, 4, True): 0.9333333333333333, (16, 1, True): -0.42105263157894735, (19, 2, True): -0.5454545454545454, (17, 3, True): 0.09090909090909091, (17, 3, False): -0.6915887850467289, (16, 10, True): -0.25925925925925924, (13, 5, True): -0.45454545454545453, (13, 10, True): -0.34146341463414637, (17, 1, True): -0.5384615384615384, (15, 7, True): 0.0, (21, 2, True): 0.9361702127659575, (17, 2, True): -0.3333333333333333, (17, 5, True): -0.2631578947368421, (16, 9, True): 0.0, (14, 1, True): -0.7857142857142857, (12, 1, True): -0.14285714285714285, (21, 6, False): 0.922077922077922, (20, 2, False): 0.6165413533834586, (20, 1, True): 0.16666666666666666, (13, 8, True): 0.15384615384615385, (20, 2, True): 0.3157894736842105, (21, 8, True): 0.9333333333333333, (14, 10, True): -0.1702127659574468, (13, 6, True): -0.6363636363636364, (16, 3, True): -0.23529411764705882, (21, 2, False): 0.8676470588235294, (13, 7, True): -0.6666666666666666, (12, 6, True): -0.2, (14, 6, True): -0.14285714285714285, (14, 2, True): -0.42857142857142855, (20, 6, True): 0.75, (20, 3, True): 0.4827586206896552, (18, 1, True): -0.1, (15, 1, True): -0.5, (15, 6, True): -0.4444444444444444, (19, 6, True): -0.5882352941176471, (12, 5, True): -0.6666666666666666, (14, 5, True): -0.25, (16, 4, True): -0.21428571428571427, (20, 4, True): 0.7894736842105263, (13, 1, True): -0.5833333333333334, (17, 8, True): -0.625, (13, 2, True): -0.16666666666666666, (18, 8, True): -0.6, (17, 6, True): -0.3333333333333333, (17, 7, True): -0.6666666666666666, (16, 8, True): -0.058823529411764705, (12, 10, True): -0.3157894736842105, (18, 3, True): -0.6, (16, 7, True): -0.45454545454545453, (20, 5, True): 0.7916666666666666, (15, 10, True): -0.47619047619047616, (12, 7, True): -1.0, (13, 4, True): -0.5, (16, 6, True): -0.2222222222222222, (13, 9, True): -0.4, (14, 9, True): -0.5555555555555556, (15, 9, True): -0.1, (19, 4, True): -0.25, (16, 5, True): -0.2857142857142857, (14, 3, True): -0.2222222222222222, (16, 2, True): -0.6666666666666666, (12, 2, True): -0.75, (12, 9, True): 0.0, (17, 4, True): -0.2222222222222222, (14, 4, True): -0.6666666666666666, (12, 3, True): -1.0, (12, 4, True): -0.5})\n"
     ]
    }
   ],
   "source": [
    "%%execwritefile -a mc_autograde.py\n",
    "\n",
    "def mc_prediction(env, policy, num_episodes, discount_factor=1.0, sampling_function=sample_episode):\n",
    "    \n",
    "    \"\"\"\n",
    "    Monte Carlo prediction algorithm. Calculates the value function\n",
    "    for a given policy using sampling.\n",
    "    \n",
    "    Args:\n",
    "        env: OpenAI gym environment.\n",
    "        policy: A policy which allows us to sample actions with its sample_action method.\n",
    "        num_episodes: Number of episodes to sample.\n",
    "        discount_factor: Gamma discount factor.\n",
    "        sampling_function: Function that generates data from one episode.\n",
    "    \n",
    "    Returns:\n",
    "        A dictionary that maps from state -> value.\n",
    "        The state is a tuple and the value is a float.\n",
    "    \"\"\"\n",
    "    # Keeps track of current V and count of returns for each state\n",
    "    # to calculate an update.\n",
    "    V = defaultdict(float)\n",
    "    returns_count = (float)\n",
    "    \n",
    "    # initialize all state values arbirarly\n",
    "    # initialize an empty list for all states\n",
    "    \n",
    "    \n",
    "    for i in tqdm(range(num_episodes)):\n",
    "        data = sample_episode(env, policy)\n",
    "#         print(data)\n",
    "        visited_states = data[0]\n",
    "        \n",
    "        # voeg nu elke state die je bent tegengekomen toe aan je dict\n",
    "        for state in visited_states:\n",
    "            \n",
    "            # als state nog niet in V zit voeg toe\n",
    "            if state not in V:\n",
    "                V[state] = []\n",
    "\n",
    "        g = 0\n",
    "#         loop reversed throw the trajectory\n",
    "#         print(\"state\", data[0])\n",
    "        data[0].reverse()\n",
    "        data[2].reverse()\n",
    "\n",
    "        #loop door de trajectory\n",
    "        for state, reward in ( zip(data[0], data[2]) ):\n",
    "            \n",
    "            #bereken de waarde van die state door de directe reward van het spel te pakken. Deze waarde geldt dan voor hele trajectory\n",
    "            g += discount_factor * reward\n",
    "#             print(\"G\", g)\n",
    "            \n",
    "            # update nu de state uit de trajectory met deze reward\n",
    "            current_list = V[state]\n",
    "#             print(\"CURRENT LIST\", current_list)\n",
    "            current_list.append(g)\n",
    "#             print(\"UPDATED\", current_list)\n",
    "            V[state] = current_list\n",
    "\n",
    "\n",
    "#     print(\"@@@\", V)\n",
    "    for key, value in V.items():\n",
    "        V[key] = sum(value) / len(value)\n",
    "#         print(key, value)\n",
    "        \n",
    "    #loop door alle states in de dict\n",
    "    # pak de lijst per state\n",
    "    # avg de lijst en vervang daarmee de huidige lijst voor die stata\n",
    "\n",
    "    \n",
    "    return V\n",
    "\n",
    "# num_episodes=10000\n",
    "V_10k = mc_prediction(env, SimpleBlackjackPolicy(), num_episodes=10000)\n",
    "print(V_10k)"
   ]
  },
  {
   "cell_type": "code",
   "execution_count": 14,
   "metadata": {},
   "outputs": [
    {
     "name": "stderr",
     "output_type": "stream",
     "text": [
      "100%|███████████████████████████████████████████████████████████████████████████████████████████████████████████████████████████████████████████████████████████████████████████████████████| 10/10 [00:00<?, ?it/s]\n"
     ]
    },
    {
     "name": "stdout",
     "output_type": "stream",
     "text": [
      "defaultdict(<class 'float'>, {(16, 10, False): -1.0, (17, 10, False): -1.0, (19, 10, False): -1.0, (12, 10, False): -1.0, (13, 10, False): -1.0, (17, 2, False): -1.0, (12, 4, False): -1.0, (16, 4, False): -1.0, (19, 4, False): -1.0, (13, 6, False): -1.0, (20, 10, False): -1.0, (15, 6, False): -1.0, (16, 6, False): -1.0, (18, 6, False): -1.0, (14, 10, False): -1.0})\n"
     ]
    }
   ],
   "source": [
    "# num_episodes=10000\n",
    "V_10k = mc_prediction(env, SimpleBlackjackPolicy(), num_episodes=10)\n",
    "print(V_10k)"
   ]
  },
  {
   "cell_type": "markdown",
   "metadata": {
    "nbgrader": {
     "grade": false,
     "grade_id": "cell-9d32f907f180c088",
     "locked": true,
     "schema_version": 1,
     "solution": false
    }
   },
   "source": [
    "Now make *4 plots* like Figure 5.1 in the book. You can either make 3D plots or heatmaps. Make sure that your results look similar to the results in the book. Give your plots appropriate titles, axis labels, etc."
   ]
  },
  {
   "cell_type": "code",
   "execution_count": 15,
   "metadata": {
    "nbgrader": {
     "grade": false,
     "grade_id": "cell-cbaf4d6a0e4c00fa",
     "locked": true,
     "schema_version": 1,
     "solution": false
    }
   },
   "outputs": [
    {
     "name": "stderr",
     "output_type": "stream",
     "text": [
      "100%|██████████████████████████████████████████████████████████████████████████████████████████████████████████████████████████████████████████████████████████████████████| 10000/10000 [00:00<00:00, 27929.63it/s]\n",
      "100%|████████████████████████████████████████████████████████████████████████████████████████████████████████████████████████████████████████████████████████████████████| 500000/500000 [00:17<00:00, 28336.92it/s]\n"
     ]
    },
    {
     "name": "stdout",
     "output_type": "stream",
     "text": [
      "Wall time: 18.1 s\n"
     ]
    }
   ],
   "source": [
    "%%time\n",
    "# Let's run your code one time\n",
    "V_10k = mc_prediction(env, SimpleBlackjackPolicy(), num_episodes=10000)\n",
    "V_500k = mc_prediction(env, SimpleBlackjackPolicy(), num_episodes=500000)"
   ]
  },
  {
   "cell_type": "code",
   "execution_count": 16,
   "metadata": {},
   "outputs": [],
   "source": [
    "import matplotlib.pyplot as plt\n",
    "import numpy as np\n",
    "import seaborn as sns"
   ]
  },
  {
   "cell_type": "code",
   "execution_count": 17,
   "metadata": {},
   "outputs": [
    {
     "data": {
      "image/png": "[encoded data removed]",
      "text/plain": [
       "<Figure size 432x288 with 2 Axes>"
      ]
     },
     "metadata": {
      "needs_background": "light"
     },
     "output_type": "display_data"
    },
    {
     "data": {
      "image/png": "[encoded data removed]",
      "text/plain": [
       "<Figure size 432x288 with 2 Axes>"
      ]
     },
     "metadata": {
      "needs_background": "light"
     },
     "output_type": "display_data"
    },
    {
     "data": {
      "image/png": "[encoded data removed]",
      "text/plain": [
       "<Figure size 432x288 with 2 Axes>"
      ]
     },
     "metadata": {
      "needs_background": "light"
     },
     "output_type": "display_data"
    },
    {
     "data": {
      "image/png": "[encoded data removed]",
      "text/plain": [
       "<Figure size 432x288 with 2 Axes>"
      ]
     },
     "metadata": {
      "needs_background": "light"
     },
     "output_type": "display_data"
    },
    {
     "data": {
      "text/plain": [
       "<Figure size 432x288 with 0 Axes>"
      ]
     },
     "metadata": {},
     "output_type": "display_data"
    }
   ],
   "source": [
    "usable_ace = np.zeros((22, 11))\n",
    "no_usable_ace = np.zeros((22, 11))\n",
    "\n",
    "\n",
    "\n",
    "for key, value in V_500k.items():\n",
    "    if key[2] == True:\n",
    "        usable_ace[key[0], key[1]] = value\n",
    "    else:\n",
    "        no_usable_ace[key[0], key[1]] = value\n",
    "        \n",
    "ax = sns.heatmap(usable_ace, cmap = 'Blues')\n",
    "plt.title('Usebale ace 500k')\n",
    "plt.show()\n",
    "plt.clf()\n",
    "\n",
    "ax = sns.heatmap(no_usable_ace, cmap = 'Blues')\n",
    "plt.title('No usable ace 500k')\n",
    "plt.show()\n",
    "plt.clf()\n",
    "\n",
    "\n",
    "\n",
    "for key, value in V_10k.items():\n",
    "    if key[2] == True:\n",
    "        usable_ace[key[0], key[1]] = value\n",
    "    else:\n",
    "        no_usable_ace[key[0], key[1]] = value\n",
    "        \n",
    "ax = sns.heatmap(usable_ace, cmap = 'Blues')\n",
    "plt.title('Usebale ace 10k')\n",
    "plt.show()\n",
    "plt.clf()\n",
    "\n",
    "ax = sns.heatmap(no_usable_ace, cmap = 'Blues')\n",
    "plt.title('No usable ace 10k')\n",
    "plt.show()\n",
    "plt.clf()"
   ]
  },
  {
   "cell_type": "markdown",
   "metadata": {},
   "source": [
    "## 2. Off-policy Monte Carlo prediction\n",
    "In real world, it is often beneficial to learn from the experience of others in addition to your own. For example, you can probably infer that running off the cliff with a car is a bad idea if you consider what \"return\" people who have tried it received.\n",
    "\n",
    "Similarly, we can benefit from the experience of other agents in reinforcement learning. In this exercise we will use off-policy monte carlo to estimate the value function of our target policy using the experience from a different behavior policy. Our target policy will be the simple policy defined above (stick if we have *20* or *21* points) and we will use a random policy that randomly chooses to stick or hit (both with 50% probability) as a behavior policy. As a first step, implement a random BlackJack policy."
   ]
  },
  {
   "cell_type": "code",
   "execution_count": 18,
   "metadata": {},
   "outputs": [
    {
     "name": "stdout",
     "output_type": "stream",
     "text": [
      "Appending to mc_autograde.py\n"
     ]
    }
   ],
   "source": [
    "%%execwritefile -a mc_autograde.py\n",
    "\n",
    "class RandomBlackjackPolicy(object):\n",
    "    \"\"\"\n",
    "    A random BlackJack policy.\n",
    "    \"\"\"\n",
    "    def get_probs(self, states, actions):\n",
    "#         print(\"STATES\", states)\n",
    "#         print(\"ACTIONS\", actions)\n",
    "        \"\"\"\n",
    "        This method takes a list of states and a list of actions and returns a numpy array that contains \n",
    "        a probability of perfoming action in given state for every corresponding state action pair. \n",
    "\n",
    "        Args:\n",
    "            states: a list of states.\n",
    "            actions: a list of actions.\n",
    "\n",
    "        Returns:\n",
    "            Numpy array filled with probabilities (same length as states and actions)\n",
    "        \"\"\"\n",
    "        # YOUR CODE HERE\n",
    "        \n",
    "        probs = len(states) * [0.5]\n",
    "#         print(\"probs\", probs)\n",
    "        \n",
    "        \n",
    "        \n",
    "        \n",
    "        return probs\n",
    "    \n",
    "    def sample_action(self, state):\n",
    "        \"\"\"\n",
    "        This method takes a state as input and returns an action sampled from this policy.  \n",
    "\n",
    "        Args:\n",
    "            state: current state\n",
    "\n",
    "        Returns:\n",
    "            An action (int).\n",
    "        \"\"\"\n",
    "        #       hit\n",
    "        action = np.random.randint(low=0.0, high=2.0, size = 1)\n",
    "#         print(\"action\", action)\n",
    "        \n",
    "\n",
    "            \n",
    "        return action\n"
   ]
  },
  {
   "cell_type": "code",
   "execution_count": 19,
   "metadata": {},
   "outputs": [
    {
     "name": "stdout",
     "output_type": "stream",
     "text": [
      "State: (15, 10, False)\n",
      "Sampled Action: [0]\n",
      "Probabilities [stick, hit]: [0.5, 0.5]\n"
     ]
    }
   ],
   "source": [
    "# Let's check if it makes sense\n",
    "env = BlackjackEnv()\n",
    "s = env.reset()\n",
    "policy = RandomBlackjackPolicy()\n",
    "print(\"State: {}\\nSampled Action: {}\\nProbabilities [stick, hit]: {}\".format(s, policy.sample_action(s), policy.get_probs([s,s],[0,1])))"
   ]
  },
  {
   "cell_type": "markdown",
   "metadata": {},
   "source": [
    "Now implement the MC prediction algorithm with ordinary importance sampling. Use the sampling function from above to sample data from a single episode.\n",
    "\n",
    "Hint: Get probs functions may be handy. You can use `for i in tqdm(range(num_episodes))` to show a progress bar."
   ]
  },
  {
   "cell_type": "code",
   "execution_count": 20,
   "metadata": {
    "scrolled": true
   },
   "outputs": [
    {
     "name": "stdout",
     "output_type": "stream",
     "text": [
      "Appending to mc_autograde.py\n"
     ]
    },
    {
     "name": "stderr",
     "output_type": "stream",
     "text": [
      "100%|████████████████████████████████████████████████████████████████████████████████████████████████████████████████████████████████████████████████████████████████████████████| 10/10 [00:00<00:00, 10024.63it/s]\n"
     ]
    },
    {
     "name": "stdout",
     "output_type": "stream",
     "text": [
      "defaultdict(<class 'float'>, {(16, 10, False): 0.0, (20, 10, False): 0.0, (20, 7, False): 2.0, (19, 9, False): 2.0, (21, 9, False): 2.0, (20, 4, False): 0.0, (14, 2, False): 0.0, (13, 3, False): 0.0, (17, 5, False): 0.0, (21, 7, False): 2.0, (16, 1, True): 0.0})\n"
     ]
    }
   ],
   "source": [
    "%%execwritefile -a mc_autograde.py\n",
    "\n",
    "def mc_importance_sampling(env, behavior_policy, target_policy, num_episodes, discount_factor=1.0,\n",
    "                           sampling_function=sample_episode):\n",
    "    \"\"\"\n",
    "    Monte Carlo prediction algorithm. Calculates the value function\n",
    "    for a given target policy using behavior policy and ordinary importance sampling.\n",
    "    \n",
    "    Args:\n",
    "        env: OpenAI gym environment.\n",
    "        behavior_policy: A policy used to collect the data.\n",
    "        target_policy: A policy which value function we want to estimate.\n",
    "        num_episodes: Number of episodes to sample.\n",
    "        discount_factor: Gamma discount factor.\n",
    "        sampling_function: Function that generates data from one episode.\n",
    "    \n",
    "    Returns:\n",
    "        A dictionary that maps from state -> value.\n",
    "        The state is a tuple and the value is a float.\n",
    "    \"\"\"\n",
    "    \n",
    "    V = defaultdict(float)\n",
    "    returns_count = (float)\n",
    "    \n",
    "    # initialize all state values arbirarly\n",
    "    # initialize an empty list for all states\n",
    "\n",
    "#   loop door episodes\n",
    "    for i in tqdm(range(num_episodes)):\n",
    "        data = sample_episode(env, policy)\n",
    "#         print(\"data\", data)\n",
    "\n",
    "        visited_states = data[0]\n",
    "        \n",
    "        # voeg nu elke state die je bent tegengekomen toe aan je dict\n",
    "        for state in visited_states:\n",
    "            \n",
    "            # als state nog niet in V zit voeg toe\n",
    "            if state not in V:\n",
    "                V[state] = []\n",
    "\n",
    "        g = 0\n",
    "        target_policy_prob = 1\n",
    "        behavioural_policy_prob = 1\n",
    "        \n",
    "        \n",
    "#       loop reversed throw the trajectory, rewards and actions\n",
    "        data[0].reverse() # states\n",
    "        data[2].reverse() # rewards\n",
    "        data[1].reverse() # actions\n",
    "        \n",
    "#         print(\"states\", data[0])\n",
    "#         print(\"actions\", data[1])\n",
    "#         print(\"rewards\", data[2])\n",
    "\n",
    "        \n",
    "        #loop door de trajectory in reversed order\n",
    "        for state, reward, action in ( zip(data[0], data[2], data[1]) ):\n",
    "#             print(\"state\", state)\n",
    "#             print(\"reward\", reward)\n",
    "#             print(\"action\", action)\n",
    "            \n",
    "            target_policy_prob *= target_policy.get_probs([state], [0, 1])[action[0]] # [0 , 1] prob for stick and prob for hit\n",
    "            behavioural_policy_prob *= behavior_policy.get_probs(state, [0, 1])[action[0]]\n",
    "#             behavioural_policy_prob *= behavior_policy.get_probs(state)[0]\n",
    "#             print(\"tar\", target_policy_prob)\n",
    "#             print(\"beh\", behavioural_policy_prob)\n",
    "           \n",
    "            weights = target_policy_prob/behavioural_policy_prob\n",
    "#             print(\"weights\", weights)\n",
    "#             print(\"REWARD\", reward)\n",
    "            \n",
    "            #bereken de waarde van die state door de directe reward van het spel te pakken. Deze waarde geldt dan voor hele trajectory\n",
    "            g += discount_factor * reward * weights\n",
    "#             print(\"G\", g)\n",
    "            \n",
    "            # update nu de state uit de trajectory met deze reward\n",
    "            current_list = V[state]\n",
    "#             print(\"CURRENT LIST\", current_list)\n",
    "            current_list.append(g)\n",
    "#             print(\"UPDATED\", current_list)\n",
    "            V[state] = current_list\n",
    "\n",
    "\n",
    "#     print(\"@@@\", V)\n",
    "    for key, value in V.items():\n",
    "        V[key] = sum(value) / len(value)\n",
    "#         print(key, value)\n",
    "        \n",
    "    #loop door alle states in de dict\n",
    "    # pak de lijst per state\n",
    "    # avg de lijst en vervang daarmee de huidige lijst voor \n",
    "    \n",
    "\n",
    "    # Keeps track of current V and count of returns for each state\n",
    "    # to calculate an update.\n",
    "\n",
    "    \n",
    "    # YOUR CODE HERE\n",
    "    \n",
    "    return V\n",
    "\n",
    "V_10k = mc_importance_sampling(env, RandomBlackjackPolicy(), SimpleBlackjackPolicy(), num_episodes=10)\n",
    "print(V_10k)"
   ]
  },
  {
   "cell_type": "code",
   "execution_count": 21,
   "metadata": {
    "scrolled": true
   },
   "outputs": [
    {
     "name": "stderr",
     "output_type": "stream",
     "text": [
      "100%|██████████████████████████████████████████████████████████████████████████████████████████████████████████████████████████████████████████████████████████████████████| 10000/10000 [00:00<00:00, 17559.93it/s]\n"
     ]
    },
    {
     "name": "stdout",
     "output_type": "stream",
     "text": [
      "defaultdict(<class 'float'>, {(12, 1, False): -0.40384615384615385, (16, 1, False): -0.8, (18, 1, False): -0.7733333333333333, (14, 10, False): -0.5137614678899083, (20, 3, False): 0.8301886792452831, (13, 8, False): -0.5301204819277109, (17, 7, False): -0.975609756097561, (17, 9, False): -0.5647058823529412, (19, 10, False): -0.8, (17, 10, False): -0.6343042071197411, (20, 10, False): 0.3835051546391753, (12, 8, False): -0.32653061224489793, (20, 8, False): 0.7194244604316546, (16, 7, False): -0.6105263157894737, (12, 10, False): -0.46408839779005523, (14, 5, True): 0.0, (16, 10, False): -0.6426426426426426, (21, 10, False): 0.9950738916256158, (21, 6, True): 0.8813559322033898, (21, 6, False): 0.9253731343283582, (15, 7, True): 0.2222222222222222, (21, 10, True): 0.8775510204081632, (20, 9, False): 0.8623853211009175, (13, 5, False): -0.36, (16, 10, True): -0.13043478260869565, (15, 8, False): -0.5517241379310345, (16, 5, False): -0.6444444444444445, (18, 5, False): -0.5411764705882353, (20, 2, False): 0.7213114754098361, (18, 10, False): -0.7818181818181819, (15, 3, False): -0.6575342465753424, (18, 3, False): -0.9425287356321839, (12, 7, True): 0.0, (12, 7, False): -0.46, (17, 5, True): -0.2222222222222222, (12, 2, False): -0.5714285714285714, (14, 2, False): -0.5569620253164557, (17, 2, False): -0.56, (15, 1, True): 0.16666666666666666, (19, 3, False): -0.7848101265822784, (20, 7, False): 0.7166666666666667, (12, 6, False): -0.11904761904761904, (12, 6, True): -0.5, (20, 4, False): 0.5423728813559322, (21, 2, True): 0.8, (21, 2, False): 0.9230769230769231, (19, 6, False): -0.8421052631578947, (21, 4, True): 0.7027027027027027, (16, 4, False): -0.5411764705882353, (18, 4, False): -0.6352941176470588, (17, 5, False): -0.575, (20, 5, False): 0.6885245901639344, (19, 2, False): -0.7777777777777778, (15, 10, False): -0.575, (13, 7, False): -0.40476190476190477, (15, 7, False): -0.4, (14, 8, False): -0.5631067961165048, (15, 5, True): -0.46153846153846156, (12, 5, False): -0.5057471264367817, (21, 7, False): 1.0, (13, 1, False): -0.5411764705882353, (17, 1, False): -0.6835443037974683, (19, 7, True): 0.15384615384615385, (14, 4, False): -0.631578947368421, (15, 1, False): -0.4842105263157895, (12, 10, True): 0.08333333333333333, (14, 5, False): -0.6990291262135923, (17, 6, False): -0.8, (17, 8, False): -0.5205479452054794, (12, 4, False): -0.4722222222222222, (12, 9, False): -0.425, (16, 6, False): -0.5168539325842697, (15, 2, False): -0.6666666666666666, (21, 8, True): 0.8, (16, 8, False): -0.7951807228915663, (13, 10, False): -0.5802469135802469, (19, 9, False): -0.8378378378378378, (21, 9, False): 0.8148148148148148, (21, 8, False): 0.7586206896551724, (12, 2, True): -0.4, (21, 9, True): 0.6808510638297872, (14, 7, False): -0.6595744680851063, (19, 1, False): -0.8571428571428571, (13, 9, False): -0.62, (14, 9, False): -0.6842105263157895, (15, 5, False): -0.625, (14, 6, False): -0.5681818181818182, (19, 8, True): -0.16666666666666666, (15, 9, False): -0.6086956521739131, (19, 4, False): -0.8222222222222222, (13, 2, False): -0.48717948717948717, (13, 6, False): -0.3409090909090909, (14, 1, False): -0.7407407407407407, (12, 3, False): -0.37894736842105264, (20, 10, True): 0.5, (16, 3, False): -0.6060606060606061, (17, 3, False): -0.6511627906976745, (19, 5, False): -0.9397590361445783, (21, 5, False): 0.7169811320754716, (14, 3, False): -0.5909090909090909, (18, 1, True): -1.1111111111111112, (17, 4, False): -0.5526315789473685, (14, 3, True): -0.2, (20, 1, False): -0.08064516129032258, (13, 10, True): 0.0, (13, 3, True): 0.5, (12, 4, True): 0.0, (18, 9, False): -0.5909090909090909, (18, 5, True): 0.4444444444444444, (20, 6, False): 0.8571428571428571, (18, 6, False): -0.7073170731707317, (20, 2, True): 0.0, (15, 10, True): -0.11320754716981132, (18, 8, False): -0.8648648648648649, (19, 8, False): -0.8045977011494253, (18, 10, True): 0.037037037037037035, (21, 7, True): 1.1818181818181819, (14, 10, True): 0.0, (19, 10, True): -0.12244897959183673, (16, 2, False): -0.9315068493150684, (19, 1, True): -0.5454545454545454, (19, 7, False): -0.7692307692307693, (16, 7, True): 0.3333333333333333, (20, 5, True): 0.3333333333333333, (20, 9, True): 0.16666666666666666, (21, 1, False): 0.6666666666666666, (13, 3, False): -0.32967032967032966, (21, 3, True): 0.7368421052631579, (19, 9, True): 0.0, (15, 6, False): -0.4225352112676056, (21, 5, True): 0.88, (13, 9, True): 0.2222222222222222, (14, 9, True): 0.0, (15, 8, True): 0.36363636363636365, (17, 7, True): 0.0, (18, 2, False): -0.6976744186046512, (17, 1, True): -0.11764705882352941, (14, 6, True): -0.14285714285714285, (16, 9, False): -0.7252747252747253, (21, 1, True): 0.7659574468085106, (21, 3, False): 1.2820512820512822, (13, 4, False): -0.3111111111111111, (13, 7, True): 0.42857142857142855, (19, 2, True): -0.26666666666666666, (17, 8, True): -0.36363636363636365, (20, 1, True): -0.47058823529411764, (20, 7, True): 1.3333333333333333, (15, 6, True): 0.16666666666666666, (20, 8, True): 0.8571428571428571, (16, 9, True): 0.0, (15, 4, False): -0.5194805194805194, (21, 4, False): 1.1071428571428572, (20, 4, True): 0.9333333333333333, (13, 5, True): 0.0, (17, 3, True): -0.2222222222222222, (12, 1, True): 0.0, (17, 9, True): -0.2222222222222222, (17, 10, True): -0.21739130434782608, (19, 5, True): 0.0, (18, 9, True): -0.625, (19, 4, True): 0.0, (18, 7, False): -0.6428571428571429, (13, 4, True): -0.2857142857142857, (15, 4, True): 0.0, (16, 5, True): -0.3076923076923077, (18, 2, True): -0.8, (13, 6, True): 0.0, (18, 7, True): 0.4, (18, 4, True): -0.4, (14, 2, True): 0.0, (18, 8, True): -0.36363636363636365, (12, 5, True): 0.0, (13, 8, True): 0.16666666666666666, (13, 1, True): -0.25, (15, 9, True): 0.0, (12, 8, True): -0.4, (19, 3, True): -0.6666666666666666, (14, 1, True): -0.3333333333333333, (15, 2, True): 0.0, (16, 2, True): -0.18181818181818182, (17, 2, True): -0.2857142857142857, (13, 2, True): 0.0, (17, 6, True): -0.3076923076923077, (16, 8, True): -0.4444444444444444, (16, 3, True): -0.18181818181818182, (16, 4, True): 0.0, (17, 4, True): -0.4444444444444444, (18, 6, True): -0.25, (15, 3, True): 0.3333333333333333, (20, 3, True): 0.8, (16, 1, True): 0.0, (14, 4, True): 0.3333333333333333, (18, 3, True): -0.875, (14, 8, True): -0.4444444444444444, (16, 6, True): -0.18181818181818182, (20, 6, True): 0.18181818181818182, (12, 9, True): -0.5, (19, 6, True): 0.0, (14, 7, True): 0.0, (12, 3, True): -0.5})\n"
     ]
    }
   ],
   "source": [
    "V_10k = mc_importance_sampling(env, RandomBlackjackPolicy(), SimpleBlackjackPolicy(), num_episodes=10000)\n",
    "print(V_10k)"
   ]
  },
  {
   "cell_type": "code",
   "execution_count": 22,
   "metadata": {},
   "outputs": [
    {
     "name": "stderr",
     "output_type": "stream",
     "text": [
      "100%|██████████████████████████████████████████████████████████████████████████████████████████████████████████████████████████████████████████████████████████████████████| 10000/10000 [00:00<00:00, 16908.49it/s]\n",
      "100%|████████████████████████████████████████████████████████████████████████████████████████████████████████████████████████████████████████████████████████████████████| 500000/500000 [00:26<00:00, 18619.49it/s]\n"
     ]
    },
    {
     "name": "stdout",
     "output_type": "stream",
     "text": [
      "Wall time: 27.6 s\n"
     ]
    }
   ],
   "source": [
    "%%time\n",
    "# Let's run your code one time\n",
    "V_10k_2 = mc_importance_sampling(env, RandomBlackjackPolicy(), SimpleBlackjackPolicy(), num_episodes=10000)\n",
    "V_500k_2 = mc_importance_sampling(env, RandomBlackjackPolicy(), SimpleBlackjackPolicy(), num_episodes=500000)"
   ]
  },
  {
   "cell_type": "markdown",
   "metadata": {},
   "source": [
    "Plot the V function. Do the plots look like what you expected?"
   ]
  },
  {
   "cell_type": "code",
   "execution_count": 23,
   "metadata": {},
   "outputs": [
    {
     "data": {
      "image/png": "[encoded data removed]",
      "text/plain": [
       "<Figure size 432x288 with 2 Axes>"
      ]
     },
     "metadata": {
      "needs_background": "light"
     },
     "output_type": "display_data"
    },
    {
     "data": {
      "image/png": "[encoded data removed]",
      "text/plain": [
       "<Figure size 432x288 with 2 Axes>"
      ]
     },
     "metadata": {
      "needs_background": "light"
     },
     "output_type": "display_data"
    },
    {
     "data": {
      "image/png": "[encoded data removed]",
      "text/plain": [
       "<Figure size 432x288 with 2 Axes>"
      ]
     },
     "metadata": {
      "needs_background": "light"
     },
     "output_type": "display_data"
    },
    {
     "data": {
      "image/png": "[encoded data removed]",
      "text/plain": [
       "<Figure size 432x288 with 2 Axes>"
      ]
     },
     "metadata": {
      "needs_background": "light"
     },
     "output_type": "display_data"
    },
    {
     "data": {
      "text/plain": [
       "<Figure size 432x288 with 0 Axes>"
      ]
     },
     "metadata": {},
     "output_type": "display_data"
    }
   ],
   "source": [
    "usable_ace = np.zeros((22, 11))\n",
    "no_usable_ace = np.zeros((22, 11))\n",
    "\n",
    "\n",
    "\n",
    "for key, value in V_500k_2.items():\n",
    "    if key[2] == True:\n",
    "        usable_ace[key[0], key[1]] = value\n",
    "    else:\n",
    "        no_usable_ace[key[0], key[1]] = value\n",
    "        \n",
    "ax = sns.heatmap(usable_ace, cmap = 'Blues')\n",
    "plt.title('Usebale ace 500k')\n",
    "plt.show()\n",
    "plt.clf()\n",
    "\n",
    "ax = sns.heatmap(no_usable_ace, cmap = 'Blues')\n",
    "plt.title('No usable ace 500k')\n",
    "plt.show()\n",
    "plt.clf()\n",
    "\n",
    "\n",
    "\n",
    "for key, value in V_10k_2.items():\n",
    "    if key[2] == True:\n",
    "        usable_ace[key[0], key[1]] = value\n",
    "    else:\n",
    "        no_usable_ace[key[0], key[1]] = value\n",
    "        \n",
    "ax = sns.heatmap(usable_ace, cmap = 'Blues')\n",
    "plt.title('Usebale ace 10k')\n",
    "plt.show()\n",
    "plt.clf()\n",
    "\n",
    "ax = sns.heatmap(no_usable_ace, cmap = 'Blues')\n",
    "plt.title('No usable ace 10k')\n",
    "plt.show()\n",
    "plt.clf()"
   ]
  },
  {
   "cell_type": "markdown",
   "metadata": {},
   "source": [
    "If you want to test/submit your solution **restart the kernel, run all cells and submit the mc_autograde.py file into codegrade.**"
   ]
  },
  {
   "cell_type": "code",
   "execution_count": null,
   "metadata": {},
   "outputs": [],
   "source": []
  },
  {
   "cell_type": "code",
   "execution_count": null,
   "metadata": {},
   "outputs": [],
   "source": []
  },
  {
   "cell_type": "code",
   "execution_count": null,
   "metadata": {},
   "outputs": [],
   "source": []
  },
  {
   "cell_type": "code",
   "execution_count": null,
   "metadata": {},
   "outputs": [],
   "source": []
  },
  {
   "cell_type": "code",
   "execution_count": null,
   "metadata": {},
   "outputs": [],
   "source": []
  },
  {
   "cell_type": "code",
   "execution_count": null,
   "metadata": {},
   "outputs": [],
   "source": []
  },
  {
   "cell_type": "code",
   "execution_count": null,
   "metadata": {},
   "outputs": [],
   "source": []
  },
  {
   "cell_type": "code",
   "execution_count": null,
   "metadata": {},
   "outputs": [],
   "source": []
  },
  {
   "cell_type": "code",
   "execution_count": null,
   "metadata": {},
   "outputs": [],
   "source": []
  },
  {
   "cell_type": "code",
   "execution_count": null,
   "metadata": {},
   "outputs": [],
   "source": []
  },
  {
   "cell_type": "code",
   "execution_count": null,
   "metadata": {},
   "outputs": [],
   "source": []
  },
  {
   "cell_type": "code",
   "execution_count": null,
   "metadata": {},
   "outputs": [],
   "source": []
  },
  {
   "cell_type": "code",
   "execution_count": null,
   "metadata": {},
   "outputs": [],
   "source": []
  },
  {
   "cell_type": "code",
   "execution_count": null,
   "metadata": {},
   "outputs": [],
   "source": []
  },
  {
   "cell_type": "code",
   "execution_count": null,
   "metadata": {},
   "outputs": [],
   "source": []
  },
  {
   "cell_type": "code",
   "execution_count": null,
   "metadata": {},
   "outputs": [],
   "source": []
  },
  {
   "cell_type": "code",
   "execution_count": null,
   "metadata": {},
   "outputs": [],
   "source": []
  },
  {
   "cell_type": "code",
   "execution_count": null,
   "metadata": {},
   "outputs": [],
   "source": []
  },
  {
   "cell_type": "code",
   "execution_count": null,
   "metadata": {},
   "outputs": [],
   "source": []
  },
  {
   "cell_type": "code",
   "execution_count": null,
   "metadata": {},
   "outputs": [],
   "source": []
  }
 ],
 "metadata": {
  "celltoolbar": "Create Assignment",
  "kernelspec": {
   "display_name": "Python 3",
   "language": "python",
   "name": "python3"
  },
  "language_info": {
   "codemirror_mode": {
    "name": "ipython",
    "version": 3
   },
   "file_extension": ".py",
   "mimetype": "text/x-python",
   "name": "python",
   "nbconvert_exporter": "python",
   "pygments_lexer": "ipython3",
   "version": "3.7.4"
  }
 },
 "nbformat": 4,
 "nbformat_minor": 2
}
