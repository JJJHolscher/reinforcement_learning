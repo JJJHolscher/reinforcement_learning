{
 "cells": [
  {
   "cell_type": "markdown",
   "metadata": {},
   "source": [
    "# Reinforcement Learning - Deep Q Network\n",
    "If you want to test/submit your solution **restart the kernel, run all cells and submit the dqn_autograde.py file into codegrade.**"
   ]
  },
  {
   "cell_type": "code",
   "execution_count": 1,
   "metadata": {},
   "outputs": [],
   "source": [
    "from custommagics import CustomMagics\n",
    "get_ipython().register_magics(CustomMagics)"
   ]
  },
  {
   "cell_type": "code",
   "execution_count": 2,
   "metadata": {},
   "outputs": [
    {
     "name": "stdout",
     "output_type": "stream",
     "text": [
      "Overwriting dqn_autograde.py\n"
     ]
    }
   ],
   "source": [
    "%%execwritefile dqn_autograde.py\n",
    "import numpy as np\n",
    "import random\n",
    "import torch\n",
    "from torch import nn\n",
    "import torch.nn.functional as F\n",
    "from torch import optim\n",
    "from tqdm import tqdm as _tqdm\n",
    "\n",
    "def tqdm(*args, **kwargs):\n",
    "    return _tqdm(*args, **kwargs, mininterval=1)  # Safety, do not overflow buffer"
   ]
  },
  {
   "cell_type": "code",
   "execution_count": 3,
   "metadata": {
    "nbgrader": {
     "grade": false,
     "grade_id": "cell-fc69f22067705372",
     "locked": true,
     "schema_version": 1,
     "solution": false
    }
   },
   "outputs": [],
   "source": [
    "%matplotlib inline\n",
    "import matplotlib.pyplot as plt\n",
    "import sys\n",
    "import time\n",
    "\n",
    "assert sys.version_info[:3] >= (3, 6, 0), \"Make sure you have Python 3.6 installed!\""
   ]
  },
  {
   "cell_type": "markdown",
   "metadata": {
    "nbgrader": {
     "grade": false,
     "grade_id": "cell-fef7e20e54e6243b",
     "locked": true,
     "schema_version": 1,
     "solution": false
    }
   },
   "source": [
    "## 1. Deep Q-Network (DQN)"
   ]
  },
  {
   "cell_type": "code",
   "execution_count": 4,
   "metadata": {
    "nbgrader": {
     "grade": true,
     "grade_id": "cell-39519f4ab05eb2a1",
     "locked": true,
     "points": 0,
     "schema_version": 1,
     "solution": false
    }
   },
   "outputs": [],
   "source": [
    "import gym\n",
    "env = gym.envs.make(\"CartPole-v1\")"
   ]
  },
  {
   "cell_type": "code",
   "execution_count": 5,
   "metadata": {},
   "outputs": [],
   "source": [
    "# env is a TimeLimit wrapper around an env, so use env.env to look into the env (but otherwise you can forget about this)\n",
    "??env.env"
   ]
  },
  {
   "cell_type": "code",
   "execution_count": 6,
   "metadata": {},
   "outputs": [],
   "source": [
    "# The nice thing about the CARTPOLE is that it has very nice rendering functionality (if you are on a local environment). Let's have a look at an episode\n",
    "obs = env.reset()\n",
    "env.render()\n",
    "done = False\n",
    "while not done:\n",
    "    obs, reward, done, _ = env.step(env.action_space.sample())\n",
    "    env.render()\n",
    "    time.sleep(0.19)\n",
    "env.close()  # Close the environment or you will have a lot of render screens soon"
   ]
  },
  {
   "cell_type": "code",
   "execution_count": 7,
   "metadata": {},
   "outputs": [
    {
     "name": "stdout",
     "output_type": "stream",
     "text": [
      "tensor([[0.0000, 0.3531, 0.3640,  ..., 0.0816, 0.0000, 0.0000],\n",
      "        [0.0000, 0.0000, 1.3657,  ..., 1.3008, 0.0000, 0.7097],\n",
      "        [2.3705, 0.2847, 2.2888,  ..., 0.0000, 0.0000, 0.0000],\n",
      "        ...,\n",
      "        [0.0000, 0.0000, 0.0000,  ..., 0.0000, 0.0000, 0.0000],\n",
      "        [0.0000, 0.0000, 0.0585,  ..., 0.5352, 0.0000, 0.9684],\n",
      "        [1.0246, 0.4652, 0.0000,  ..., 0.0000, 0.0000, 0.0000]])\n",
      "tensor([[0.0000, 0.3531, 0.3640,  ..., 0.0816, 0.0000, 0.0000],\n",
      "        [0.0000, 0.0000, 1.3657,  ..., 1.3008, 0.0000, 0.7097],\n",
      "        [2.3705, 0.2847, 2.2888,  ..., 0.0000, 0.0000, 0.0000],\n",
      "        ...,\n",
      "        [0.0000, 0.0000, 0.0000,  ..., 0.0000, 0.0000, 0.0000],\n",
      "        [0.0000, 0.0000, 0.0585,  ..., 0.5352, 0.0000, 0.9684],\n",
      "        [1.0246, 0.4652, 0.0000,  ..., 0.0000, 0.0000, 0.0000]])\n"
     ]
    }
   ],
   "source": [
    "m = nn.ReLU()\n",
    "relu = nn.ReLU()\n",
    "input = torch.randn(10, 128)\n",
    "# print(type(input))\n",
    "output = m(input)\n",
    "\n",
    "ooutput = F.relu(input)\n",
    "print(output)\n",
    "\n",
    "print(ooutput)"
   ]
  },
  {
   "cell_type": "markdown",
   "metadata": {
    "nbgrader": {
     "grade": false,
     "grade_id": "cell-2d83f70e62b99520",
     "locked": true,
     "schema_version": 1,
     "solution": false
    }
   },
   "source": [
    "Remember from the previous lab, that in order to optimize a policy we need to estimate the Q-values (e.g. estimate the *action* values). In the CartPole problem, our state is current position of the cart, the current velocity of the cart, the current (angular) position of the pole and the (angular) speed of the pole. As these are continuous variables, we have an infinite number of states (ignoring the fact that a digital computer can only represent finitely many states in finite memory)."
   ]
  },
  {
   "cell_type": "markdown",
   "metadata": {
    "nbgrader": {
     "grade": false,
     "grade_id": "cell-0b3162496f5e6cf5",
     "locked": true,
     "schema_version": 1,
     "solution": false
    }
   },
   "source": [
    "### 2.1 Implement Q-Network"
   ]
  },
  {
   "cell_type": "markdown",
   "metadata": {
    "nbgrader": {
     "grade": false,
     "grade_id": "cell-96a86bcfa1ebc84a",
     "locked": true,
     "schema_version": 1,
     "solution": false
    }
   },
   "source": [
    "We will not use the tabular approach but approximate the Q-value function by a general approximator function. We will skip the linear case and directly use a two layer Neural Network. We use [PyTorch](https://pytorch.org/) to implement the network, as this will allow us to train it easily later. We can implement a model using `torch.nn.Sequential`, but with PyTorch it is actually very easy to implement the model (e.g. the forward pass) from scratch. Now implement the `QNetwork.forward` function that uses one hidden layer with ReLU activation (no output activation)."
   ]
  },
  {
   "cell_type": "code",
   "execution_count": 8,
   "metadata": {
    "nbgrader": {
     "grade": false,
     "grade_id": "cell-216429a5dccf8a0e",
     "locked": false,
     "schema_version": 1,
     "solution": true
    }
   },
   "outputs": [
    {
     "name": "stdout",
     "output_type": "stream",
     "text": [
      "Appending to dqn_autograde.py\n"
     ]
    }
   ],
   "source": [
    "%%execwritefile -a dqn_autograde.py\n",
    "\n",
    "class QNetwork(nn.Module):\n",
    "    \n",
    "    def __init__(self, num_hidden=128):\n",
    "        nn.Module.__init__(self)\n",
    "        self.l1 = nn.Linear(4, num_hidden)\n",
    "        self.l2 = nn.Linear(num_hidden, 2)\n",
    "\n",
    "    def forward(self, x):\n",
    "#         print(\"JAAJAJA\", x.shape)\n",
    "        relu = nn.ReLU()\n",
    "    \n",
    "        output_firt_lin_layer = self.l1(x)\n",
    "#         print(\"OUT\", output_firt_lin_layer.shape)\n",
    "        output_relu = F.relu(output_firt_lin_layer)\n",
    "        end =  self.l2(output_relu)\n",
    "#         print(end.shape)\n",
    "\n",
    "        return end\n"
   ]
  },
  {
   "cell_type": "code",
   "execution_count": 9,
   "metadata": {
    "nbgrader": {
     "grade": true,
     "grade_id": "cell-00ce108d640a5942",
     "locked": true,
     "points": 1,
     "schema_version": 1,
     "solution": false
    }
   },
   "outputs": [],
   "source": [
    "# Let's instantiate and test if it works\n",
    "num_hidden = 128\n",
    "torch.manual_seed(1)\n",
    "Q_net = QNetwork(num_hidden)\n",
    "\n",
    "torch.manual_seed(1)\n",
    "test_model = nn.Sequential(\n",
    "    nn.Linear(4, num_hidden), \n",
    "    nn.ReLU(), \n",
    "    nn.Linear(num_hidden, 2)\n",
    ")\n",
    "\n",
    "x = torch.rand(10, 4)\n",
    "\n",
    "# If you do not need backpropagation, wrap the computation in the torch.no_grad() context\n",
    "# This saves time and memory, and PyTorch complaints when converting to numpy\n",
    "with torch.no_grad():\n",
    "    assert np.allclose(Q_net(x).numpy(), test_model(x).numpy())"
   ]
  },
  {
   "cell_type": "markdown",
   "metadata": {
    "nbgrader": {
     "grade": false,
     "grade_id": "cell-ca77eae2e62180cf",
     "locked": true,
     "schema_version": 1,
     "solution": false
    }
   },
   "source": [
    "### 2.2 Experience Replay"
   ]
  },
  {
   "cell_type": "markdown",
   "metadata": {
    "nbgrader": {
     "grade": false,
     "grade_id": "cell-2c1d117a1a75fd69",
     "locked": true,
     "schema_version": 1,
     "solution": false
    }
   },
   "source": [
    "In order to stabilize learning, we will use an experience replay to save states in and sample states from. Now implement the `push` function that adds a transition to the replay buffer, and the `sample` function that samples a (random!) batch of data, for use during training (hint: you can use the function `random.sample`). It should keep at most the maximum number of transitions."
   ]
  },
  {
   "cell_type": "code",
   "execution_count": 10,
   "metadata": {
    "nbgrader": {
     "grade": false,
     "grade_id": "cell-a3cc876e51eb157f",
     "locked": false,
     "schema_version": 1,
     "solution": true
    }
   },
   "outputs": [
    {
     "name": "stdout",
     "output_type": "stream",
     "text": [
      "Appending to dqn_autograde.py\n"
     ]
    }
   ],
   "source": [
    "%%execwritefile -a dqn_autograde.py\n",
    "\n",
    "class ReplayMemory:\n",
    "    \n",
    "    def __init__(self, capacity):\n",
    "        self.capacity = capacity\n",
    "        self.memory = []\n",
    "\n",
    "    def push(self, transition):\n",
    "        current_size_of_mem = len(self.memory)\n",
    "        \n",
    "#       dus de memory kan het aan om nog dingen erbij te krijgrn\n",
    "        if current_size_of_mem < self.capacity:\n",
    "            self.memory.append(transition)\n",
    "        else:\n",
    "            del self.memory[0]\n",
    "            self.memory.append(transition)\n",
    "\n",
    "\n",
    "    def sample(self, batch_size):\n",
    "        current_size_of_mem = len(self.memory)\n",
    "        \n",
    "        if current_size_of_mem > batch_size:\n",
    "            return random.sample(self.memory, batch_size)\n",
    "        else:\n",
    "            return self.memory\n",
    "\n",
    "    def __len__(self):\n",
    "        return len(self.memory)"
   ]
  },
  {
   "cell_type": "code",
   "execution_count": 11,
   "metadata": {
    "nbgrader": {
     "grade": true,
     "grade_id": "cell-3b90135921c4da76",
     "locked": true,
     "points": 1,
     "schema_version": 1,
     "solution": false
    }
   },
   "outputs": [
    {
     "name": "stdout",
     "output_type": "stream",
     "text": [
      "step 0\n",
      "[(array([0.01858838, 0.01410658, 0.00482762, 0.03231156]), 1, 1.0, array([ 0.01887051,  0.20915897,  0.00547385, -0.2588443 ]), False)]\n",
      "step 1\n",
      "[(array([-0.04123244,  0.04915822, -0.03577637,  0.04664432]), 0, 1.0, array([-0.04024928, -0.14543294, -0.03484349,  0.32782828]), False)]\n",
      "step 2\n",
      "[(array([-0.04123244,  0.04915822, -0.03577637,  0.04664432]), 0, 1.0, array([-0.04024928, -0.14543294, -0.03484349,  0.32782828]), False)]\n",
      "step 3\n",
      "[(array([-0.0125828 , -0.04778279, -0.03339144,  0.04278944]), 0, 1.0, array([-0.01353846, -0.2424104 , -0.03253565,  0.32475286]), False)]\n",
      "step 4\n",
      "[(array([ 0.01627046, -0.01979275, -0.0414446 , -0.02425521]), 1, 1.0, array([ 0.0158746 ,  0.1758983 , -0.04192971, -0.32972093]), False)]\n",
      "step 5\n",
      "[(array([ 0.0310749 , -0.00119785,  0.03672543, -0.04903884]), 0, 1.0, array([ 0.03105094, -0.19682664,  0.03574465,  0.25500132]), False)]\n",
      "step 6\n",
      "[(array([-0.04123244,  0.04915822, -0.03577637,  0.04664432]), 0, 1.0, array([-0.04024928, -0.14543294, -0.03484349,  0.32782828]), False)]\n",
      "step 7\n",
      "[(array([0.01858838, 0.01410658, 0.00482762, 0.03231156]), 1, 1.0, array([ 0.01887051,  0.20915897,  0.00547385, -0.2588443 ]), False)]\n",
      "step 8\n",
      "[(array([-0.04123244,  0.04915822, -0.03577637,  0.04664432]), 0, 1.0, array([-0.04024928, -0.14543294, -0.03484349,  0.32782828]), False)]\n",
      "step 9\n",
      "[(array([-0.0125828 , -0.04778279, -0.03339144,  0.04278944]), 0, 1.0, array([-0.01353846, -0.2424104 , -0.03253565,  0.32475286]), False)]\n"
     ]
    }
   ],
   "source": [
    "capacity = 10\n",
    "memory = ReplayMemory(capacity)\n",
    "\n",
    "\n",
    "for step in range(capacity):\n",
    "    print(\"step\", step)\n",
    "    # Sample a transition\n",
    "    s = env.reset()\n",
    "\n",
    "    # 0 or 1 .. push left or right\n",
    "    a = env.action_space.sample()\n",
    "\n",
    "    s_next, r, done, _ = env.step(a)\n",
    "\n",
    "    # Push a transition\n",
    "    memory.push((s, a, r, s_next, done))\n",
    "\n",
    "    # Sample a batch size of 1\n",
    "    print(memory.sample(1))\n",
    "#     print(\"-------\")"
   ]
  },
  {
   "cell_type": "markdown",
   "metadata": {
    "nbgrader": {
     "grade": false,
     "grade_id": "cell-88f67e3c051da6a9",
     "locked": true,
     "schema_version": 1,
     "solution": false
    }
   },
   "source": [
    "### 2.3 $\\epsilon$psilon greedy policy"
   ]
  },
  {
   "cell_type": "markdown",
   "metadata": {
    "nbgrader": {
     "grade": false,
     "grade_id": "cell-aa3c7d1b3000f697",
     "locked": true,
     "schema_version": 1,
     "solution": false
    }
   },
   "source": [
    "In order to learn a good policy, we need to explore quite a bit initially. As we start to learn a good policy, we want to decrease the exploration. As the amount of exploration using an $\\epsilon$-greedy policy is controlled by $\\epsilon$, we can define an 'exploration scheme' by writing $\\epsilon$ as a function of time. There are many possible schemes, but we will use a simple one: we will start with only exploring (so taking random actions) at iteration 0, and then in 1000 iterations linearly anneal $\\epsilon$ such that after 1000 iterations we take random (exploration) actions with 5\\% probability (forever, as you never know if the environment will change)."
   ]
  },
  {
   "cell_type": "code",
   "execution_count": 12,
   "metadata": {
    "nbgrader": {
     "grade": false,
     "grade_id": "cell-5789e7a792108576",
     "locked": false,
     "schema_version": 1,
     "solution": true
    }
   },
   "outputs": [
    {
     "name": "stdout",
     "output_type": "stream",
     "text": [
      "Appending to dqn_autograde.py\n"
     ]
    }
   ],
   "source": [
    "%%execwritefile -a dqn_autograde.py\n",
    "\n",
    "def get_epsilon(it):\n",
    "    \n",
    "    if it < 1000:\n",
    "        slope = -0.00095\n",
    "\n",
    "        epsilon = 1 + (it * slope)\n",
    "\n",
    "        \n",
    "    else:\n",
    "        epsilon = 0.05\n",
    "    return epsilon"
   ]
  },
  {
   "cell_type": "code",
   "execution_count": 13,
   "metadata": {
    "nbgrader": {
     "grade": true,
     "grade_id": "cell-40e66db45e742b2e",
     "locked": true,
     "points": 1,
     "schema_version": 1,
     "solution": false
    }
   },
   "outputs": [
    {
     "data": {
      "text/plain": [
       "[<matplotlib.lines.Line2D at 0x2aaff23e488>]"
      ]
     },
     "execution_count": 13,
     "metadata": {},
     "output_type": "execute_result"
    },
    {
     "data": {
      "image/png": "[encoded data removed]",
      "text/plain": [
       "<Figure size 432x288 with 1 Axes>"
      ]
     },
     "metadata": {
      "needs_background": "light"
     },
     "output_type": "display_data"
    }
   ],
   "source": [
    "# So what's an easy way to check?\n",
    "plt.plot([get_epsilon(it) for it in range(5000)])"
   ]
  },
  {
   "cell_type": "markdown",
   "metadata": {
    "nbgrader": {
     "grade": false,
     "grade_id": "cell-a8b604c9998c6c3b",
     "locked": true,
     "schema_version": 1,
     "solution": false
    }
   },
   "source": [
    "Now write a function of *EpsilonGreedyPolicy* class. This function takes a state and uses the Q-network to select an ($\\epsilon$-greedy) action. It should return a random action with probability epsilon. Note, you do not need to backpropagate through the model computations, so use `with torch.no_grad():` (see above for example). Note that to convert a PyTorch tensor with only 1 element (0 dimensional) to a simple python scalar (int or float), you can use the '.item()' function."
   ]
  },
  {
   "cell_type": "code",
   "execution_count": 14,
   "metadata": {
    "nbgrader": {
     "grade": false,
     "grade_id": "cell-878ad3a637cfb51c",
     "locked": false,
     "schema_version": 1,
     "solution": true
    }
   },
   "outputs": [
    {
     "name": "stdout",
     "output_type": "stream",
     "text": [
      "Appending to dqn_autograde.py\n"
     ]
    }
   ],
   "source": [
    "%%execwritefile -a dqn_autograde.py\n",
    "\n",
    "class EpsilonGreedyPolicy(object):\n",
    "    \"\"\"\n",
    "    A simple epsilon greedy policy.\n",
    "    \"\"\"\n",
    "    def __init__(self, Q, epsilon):\n",
    "        self.Q = Q\n",
    "        self.epsilon = epsilon\n",
    "    \n",
    "    def sample_action(self, obs):\n",
    "        \"\"\"\n",
    "        This method takes a state as input and returns an action sampled from this policy.  \n",
    "\n",
    "        Args:\n",
    "            obs: current state\n",
    "\n",
    "        Returns:\n",
    "            An action (int).\n",
    "        \"\"\"\n",
    "\n",
    "#       just a starting state ([-0.0119,  0.0057, -0.0113,  0.0341])\n",
    "        obs = torch.tensor(obs).float()\n",
    "\n",
    "        with torch.no_grad():\n",
    "            prediction = self.Q.forward(obs)\n",
    "#         print(\"PREDICITON\", prediction)\n",
    "        prediction = prediction.numpy()\n",
    "\n",
    "        coin = np.random.uniform()\n",
    "#         print(coin)\n",
    "#         print(1- self.epsilon)\n",
    "#         print(\"len\", len(prediction))\n",
    "        \n",
    "        # take greedy action\n",
    "        if coin <= 1 - self.epsilon:\n",
    "            action = np.argmax(prediction)\n",
    "            \n",
    "        \n",
    "            \n",
    "        #else select a random action\n",
    "        else:\n",
    "#             print(\"JAAJJA\")\n",
    "            action = np.random.randint(low = 0, high = len(prediction) )\n",
    "\n",
    "\n",
    "        return action\n",
    "        \n",
    "    def set_epsilon(self, epsilon):\n",
    "        self.epsilon = epsilon"
   ]
  },
  {
   "cell_type": "code",
   "execution_count": 15,
   "metadata": {
    "nbgrader": {
     "grade": true,
     "grade_id": "cell-e895338d56bee477",
     "locked": true,
     "points": 1,
     "schema_version": 1,
     "solution": false
    }
   },
   "outputs": [
    {
     "name": "stdout",
     "output_type": "stream",
     "text": [
      "0\n"
     ]
    }
   ],
   "source": [
    "s = env.reset()\n",
    "\n",
    "epg = EpsilonGreedyPolicy(Q_net, 0.05)\n",
    "a = epg.sample_action(s)\n",
    "assert not torch.is_tensor(a)\n",
    "\n",
    "\n",
    "print (a)\n"
   ]
  },
  {
   "cell_type": "markdown",
   "metadata": {
    "nbgrader": {
     "grade": false,
     "grade_id": "cell-ec5e94e0b03f8aec",
     "locked": true,
     "schema_version": 1,
     "solution": false
    }
   },
   "source": [
    "### 2.4 Training function"
   ]
  },
  {
   "cell_type": "markdown",
   "metadata": {
    "nbgrader": {
     "grade": false,
     "grade_id": "cell-d1a12cc97386fe56",
     "locked": true,
     "schema_version": 1,
     "solution": false
    }
   },
   "source": [
    "Now we will implement the function 'train' that samples a batch from the memory and performs a gradient step using some convenient PyTorch functionality. However, you still need to compute the Q-values for the (state, action) pairs in the experience, as well as their target (e.g. the value they should move towards). What is the target for a Q-learning update? What should be the target if `next_state` is terminal (e.g. `done`)?\n",
    "\n",
    "For computing the Q-values for the actions, note that the model returns all action values where you are only interested in a single action value. Because of the batch dimension, you can't use simple indexing, but you may want to have a look at [torch.gather](https://pytorch.org/docs/stable/torch.html?highlight=gather#torch.gather) or use [advanced indexing](https://docs.scipy.org/doc/numpy-1.13.0/reference/arrays.indexing.html) (numpy tutorial but works mostly the same in PyTorch). Note, you should NOT modify the function train. You can view the size of a tensor `x` with `x.size()` (similar to `x.shape` in numpy)."
   ]
  },
  {
   "cell_type": "code",
   "execution_count": 16,
   "metadata": {
    "nbgrader": {
     "grade": false,
     "grade_id": "cell-6c45485324b40081",
     "locked": false,
     "schema_version": 1,
     "solution": true
    }
   },
   "outputs": [
    {
     "name": "stdout",
     "output_type": "stream",
     "text": [
      "Appending to dqn_autograde.py\n"
     ]
    }
   ],
   "source": [
    "%%execwritefile -a dqn_autograde.py\n",
    "\n",
    "def compute_q_vals(Q, states, actions):\n",
    "    \"\"\"\n",
    "    This method returns Q values for given state action pairs.\n",
    "    \n",
    "    Args:\n",
    "        Q: Q-net\n",
    "        states: a tensor of states. Shape: batch_size x obs_dim\n",
    "        actions: a tensor of actions. Shape: Shape: batch_size x 1\n",
    "\n",
    "    Returns:\n",
    "        A torch tensor filled with Q values. Shape: batch_size x 1.\n",
    "    \"\"\"\n",
    "\n",
    "    network_output = Q(states)\n",
    "\n",
    "    computed_q_vals = torch.gather(network_output, 1, actions)\n",
    "\n",
    "    return computed_q_vals\n",
    "\n",
    "    \n",
    "def compute_targets(Q, rewards, next_states, dones, discount_factor):\n",
    "    \"\"\"\n",
    "    This method returns targets (values towards which Q-values should move).\n",
    "    \n",
    "    Args:\n",
    "        Q: Q-net\n",
    "        rewards: a tensor of actions. Shape: Shape: batch_size x 1\n",
    "        next_states: a tensor of states. Shape: batch_size x obs_dim\n",
    "        dones: a tensor of boolean done flags (indicates if next_state is terminal) Shape: batch_size x 1\n",
    "        discount_factor: discount\n",
    "    Returns:\n",
    "        A torch tensor filled with target values. Shape: batch_size x 1.\n",
    "    \"\"\"\n",
    "\n",
    "# #   zoek op welke index nummers in done de waarde 1 heeft > dus welke in terminal state komen\n",
    "#     index_nrs_where_terminate = torch.where(dones == 1)[1]\n",
    "\n",
    "\n",
    "#     network_output = Q(next_states)\n",
    "#     print(\"network output\", network_output[0])\n",
    "\n",
    "#     values, indices = torch.max(network_output, dim = 1, keepdim= True)\n",
    "\n",
    "    \n",
    "# #   pak de goeie netwerk output waarden\n",
    "#     computed_target_values = torch.gather(network_output, 1, indices)\n",
    "#     print(\"computed target values\", computed_target_values[0])\n",
    "    \n",
    "# #   doe de multiply er tegenaan\n",
    "#     discounted_target_values = discount_factor * computed_target_values\n",
    "\n",
    "#     discounted_target_values = discounted_target_values.squeeze()\n",
    "    \n",
    "\n",
    "# #   zet de waarde 0 op de index waarden waarbij je in de terminal state komt\n",
    "#     discounted_values_incl_dones = discounted_target_values.scatter(0, index_nrs_where_terminate, 0).unsqueeze(1)\n",
    "#     end = discounted_values_incl_dones + rewards\n",
    "#     print('end', end)\n",
    "#     print(end.shape)\n",
    "    \n",
    "    \n",
    "    split_indices_terminate = torch.where(dones == 1)\n",
    "    \n",
    "    network_output = Q(next_states)\n",
    "    \n",
    "    values, indices = torch.max(network_output, dim=1, keepdims = True)\n",
    "    \n",
    "    values_after_discount = discount_factor * values\n",
    "    \n",
    "    values_after_discount[split_indices_terminate] = 0\n",
    "    \n",
    "    end_values = values_after_discount + rewards\n",
    "\n",
    "    \n",
    "    return end_values\n",
    "\n",
    "def train(Q, memory, optimizer, batch_size, discount_factor):\n",
    "    # DO NOT MODIFY THIS FUNCTION\n",
    "    \n",
    "    # don't learn without some decent experience\n",
    "    if len(memory) < batch_size:\n",
    "        return None\n",
    "\n",
    "    # random transition batch is taken from experience replay memory\n",
    "    transitions = memory.sample(batch_size)\n",
    "\n",
    "    # transition is a list of 4-tuples, instead we want 4 vectors (as torch.Tensor's)\n",
    "    state, action, reward, next_state, done = zip(*transitions)\n",
    "\n",
    "    # convert to PyTorch and define types\n",
    "    state = torch.tensor(state, dtype=torch.float)\n",
    "    action = torch.tensor(action, dtype=torch.int64)[:, None]  # Need 64 bit to use them as index\n",
    "    next_state = torch.tensor(next_state, dtype=torch.float)\n",
    "    reward = torch.tensor(reward, dtype=torch.float)[:, None]\n",
    "    done = torch.tensor(done, dtype=torch.uint8)[:, None]  # Boolean\n",
    "    \n",
    "    # compute the q value\n",
    "    q_val = compute_q_vals(Q, state, action)\n",
    "    with torch.no_grad():  # Don't compute gradient info for the target (semi-gradient)\n",
    "        target = compute_targets(Q, reward, next_state, done, discount_factor)\n",
    "    \n",
    "    # loss is measured from error between current and newly expected Q values\n",
    "    loss = F.smooth_l1_loss(q_val, target)\n",
    "    \n",
    "\n",
    "    # backpropagation of loss to Neural Network (PyTorch magic)\n",
    "    optimizer.zero_grad()\n",
    "    loss.backward()\n",
    "    optimizer.step()\n",
    "    \n",
    "    return loss.item()  # Returns a Python scalar, and releases history (similar to .detach())"
   ]
  },
  {
   "cell_type": "code",
   "execution_count": 17,
   "metadata": {
    "nbgrader": {
     "grade": true,
     "grade_id": "cell-b060b822eec4282f",
     "locked": true,
     "points": 2,
     "schema_version": 1,
     "solution": false
    },
    "scrolled": true
   },
   "outputs": [],
   "source": [
    "# You may want to test your functions individually, but after you do so lets see if the method train works.\n",
    "batch_size = 64\n",
    "discount_factor = 0.8\n",
    "learn_rate = 1e-3\n",
    "# Simple gradient descent may take long, so we will use Adam\n",
    "optimizer = optim.Adam(Q_net.parameters(), learn_rate)\n",
    "\n",
    "# We need a larger memory, fill with dummy data\n",
    "transition = memory.sample(1)[0]\n",
    "# print(transition)\n",
    "\n",
    "\n",
    "#capacity of 640\n",
    "memory = ReplayMemory(10 * batch_size)\n",
    "# print(\"hier\", len(memory))\n",
    "\n",
    "# fill memory with transitions\n",
    "for i in range(batch_size):\n",
    "    memory.push(transition)\n",
    "\n",
    "\n",
    "# Now let's see if it works\n",
    "loss = train(Q_net, memory, optimizer, batch_size, discount_factor)\n",
    "\n",
    "# print (loss)"
   ]
  },
  {
   "cell_type": "markdown",
   "metadata": {
    "nbgrader": {
     "grade": false,
     "grade_id": "cell-3eafd0ab49103f3b",
     "locked": true,
     "schema_version": 1,
     "solution": false
    }
   },
   "source": [
    "### 2.5 Put it all together"
   ]
  },
  {
   "cell_type": "markdown",
   "metadata": {
    "nbgrader": {
     "grade": false,
     "grade_id": "cell-36b8a04b393d8104",
     "locked": true,
     "schema_version": 1,
     "solution": false
    }
   },
   "source": [
    "Now that you have implemented the training step, you should be able to put everything together. Implement the function `run_episodes` that runs a number of episodes of DQN training. It should return the durations (e.g. number of steps) of each episode. Note: we pass the train function as an argument such that we can swap it for a different training step later."
   ]
  },
  {
   "cell_type": "code",
   "execution_count": 21,
   "metadata": {
    "nbgrader": {
     "grade": false,
     "grade_id": "cell-540a7d50ecc1d046",
     "locked": false,
     "schema_version": 1,
     "solution": true
    }
   },
   "outputs": [
    {
     "name": "stdout",
     "output_type": "stream",
     "text": [
      "Appending to dqn_autograde.py\n"
     ]
    }
   ],
   "source": [
    "%%execwritefile -a dqn_autograde.py\n",
    "\n",
    "def run_episodes(train, Q, policy, memory, env, num_episodes, batch_size, discount_factor, learn_rate):\n",
    "    \n",
    "    optimizer = optim.Adam(Q.parameters(), learn_rate)\n",
    "\n",
    "    global_steps = 0  # Count the steps (do not reset at episode start, to compute epsilon)\n",
    "    episode_durations = []  #\n",
    "    for i in range(num_episodes):\n",
    "\n",
    "        s = env.reset()\n",
    "        \n",
    "        steps = 0\n",
    "        while True:\n",
    "            \n",
    "            #this calculates the current epsilon\n",
    "            epsilon = get_epsilon(global_steps) \n",
    "\n",
    "            \n",
    "            #given this epsilon, create the policy\n",
    "            policy = EpsilonGreedyPolicy(Q, epsilon)\n",
    "\n",
    "            # from starting state, take action and go to next state\n",
    "            a = policy.sample_action(s)\n",
    "            s_next, r, done, _ = env.step(a)\n",
    "            memory.push((s, a, r, s_next, done))\n",
    "            s = s_next\n",
    "            \n",
    "            steps +=1\n",
    "            global_steps += 1\n",
    "\n",
    "\n",
    "            loss = train(Q, memory, optimizer, batch_size, discount_factor)\n",
    "\n",
    "\n",
    "            if done:\n",
    "                print(\"DONEEEEE\")\n",
    "                if i % 10 == 0:\n",
    "                    print(\"{2} Episode {0} finished after {1} steps\"\n",
    "                          .format(i, steps, '\\033[92m' if steps >= 195 else '\\033[99m'))\n",
    "                episode_durations.append(steps)\n",
    "                #plot_durations()\n",
    "                break\n",
    "    return episode_durations"
   ]
  },
  {
   "cell_type": "code",
   "execution_count": 22,
   "metadata": {},
   "outputs": [
    {
     "name": "stdout",
     "output_type": "stream",
     "text": [
      "DONEEEEE\n",
      " Episode 0 finished after 12 steps\n",
      "DONEEEEE\n",
      "DONEEEEE\n",
      "DONEEEEE\n",
      "DONEEEEE\n",
      "DONEEEEE\n",
      "DONEEEEE\n",
      "DONEEEEE\n",
      "DONEEEEE\n",
      "DONEEEEE\n",
      "DONEEEEE\n",
      " Episode 10 finished after 9 steps\n",
      "DONEEEEE\n",
      "DONEEEEE\n",
      "DONEEEEE\n",
      "DONEEEEE\n",
      "DONEEEEE\n",
      "DONEEEEE\n",
      "DONEEEEE\n",
      "DONEEEEE\n",
      "DONEEEEE\n",
      "DONEEEEE\n",
      " Episode 20 finished after 15 steps\n",
      "DONEEEEE\n",
      "DONEEEEE\n",
      "DONEEEEE\n",
      "DONEEEEE\n",
      "DONEEEEE\n",
      "DONEEEEE\n",
      "DONEEEEE\n",
      "DONEEEEE\n",
      "DONEEEEE\n",
      "DONEEEEE\n",
      " Episode 30 finished after 24 steps\n",
      "DONEEEEE\n",
      "DONEEEEE\n",
      "DONEEEEE\n",
      "DONEEEEE\n",
      "DONEEEEE\n",
      "DONEEEEE\n",
      "DONEEEEE\n",
      "DONEEEEE\n",
      "DONEEEEE\n",
      "DONEEEEE\n",
      " Episode 40 finished after 19 steps\n",
      "DONEEEEE\n",
      "DONEEEEE\n",
      "DONEEEEE\n",
      "DONEEEEE\n",
      "DONEEEEE\n",
      "DONEEEEE\n",
      "DONEEEEE\n",
      "DONEEEEE\n",
      "DONEEEEE\n",
      "DONEEEEE\n",
      " Episode 50 finished after 39 steps\n",
      "DONEEEEE\n",
      "DONEEEEE\n",
      "DONEEEEE\n",
      "DONEEEEE\n",
      "DONEEEEE\n",
      "DONEEEEE\n",
      "DONEEEEE\n",
      "DONEEEEE\n",
      "DONEEEEE\n",
      "DONEEEEE\n",
      " Episode 60 finished after 114 steps\n",
      "DONEEEEE\n",
      "DONEEEEE\n",
      "DONEEEEE\n",
      "DONEEEEE\n",
      "DONEEEEE\n",
      "DONEEEEE\n",
      "DONEEEEE\n",
      "DONEEEEE\n",
      "DONEEEEE\n",
      "DONEEEEE\n",
      " Episode 70 finished after 168 steps\n",
      "DONEEEEE\n",
      "DONEEEEE\n",
      "DONEEEEE\n",
      "DONEEEEE\n",
      "DONEEEEE\n",
      "DONEEEEE\n",
      "DONEEEEE\n",
      "DONEEEEE\n",
      "DONEEEEE\n",
      "DONEEEEE\n",
      " Episode 80 finished after 184 steps\n",
      "DONEEEEE\n",
      "DONEEEEE\n",
      "DONEEEEE\n",
      "DONEEEEE\n",
      "DONEEEEE\n",
      "DONEEEEE\n",
      "DONEEEEE\n",
      "DONEEEEE\n",
      "DONEEEEE\n",
      "DONEEEEE\n",
      " Episode 90 finished after 172 steps\n",
      "DONEEEEE\n",
      "DONEEEEE\n",
      "DONEEEEE\n",
      "DONEEEEE\n",
      "DONEEEEE\n",
      "DONEEEEE\n",
      "DONEEEEE\n",
      "DONEEEEE\n",
      "DONEEEEE\n"
     ]
    }
   ],
   "source": [
    "# Let's run it!\n",
    "# num_episodes = 100\n",
    "num_episodes = 100\n",
    "batch_size = 64\n",
    "discount_factor = 0.8\n",
    "learn_rate = 1e-3\n",
    "memory = ReplayMemory(10000)\n",
    "\n",
    "\n",
    "num_hidden = 128\n",
    "seed = 42  # This is not randomly chosen\n",
    "\n",
    "# We will seed the algorithm (before initializing QNetwork!) for reproducibility\n",
    "random.seed(seed)\n",
    "torch.manual_seed(seed)\n",
    "env.seed(seed)\n",
    "\n",
    "Q_net = QNetwork(num_hidden)\n",
    "policy = EpsilonGreedyPolicy(Q_net, 0.05)\n",
    "episode_durations = run_episodes(train, Q_net, policy, memory, env, num_episodes, batch_size, discount_factor, learn_rate)"
   ]
  },
  {
   "cell_type": "code",
   "execution_count": 23,
   "metadata": {
    "nbgrader": {
     "grade": true,
     "grade_id": "cell-928ecc11ed5c43d8",
     "locked": true,
     "points": 2,
     "schema_version": 1,
     "solution": false
    }
   },
   "outputs": [
    {
     "data": {
      "text/plain": [
       "Text(0.5, 1.0, 'Episode durations per episode')"
      ]
     },
     "execution_count": 23,
     "metadata": {},
     "output_type": "execute_result"
    },
    {
     "data": {
      "image/png": "[encoded data removed]",
      "text/plain": [
       "<Figure size 432x288 with 1 Axes>"
      ]
     },
     "metadata": {
      "needs_background": "light"
     },
     "output_type": "display_data"
    }
   ],
   "source": [
    "# And see the results\n",
    "def smooth(x, N):\n",
    "    cumsum = np.cumsum(np.insert(x, 0, 0)) \n",
    "    return (cumsum[N:] - cumsum[:-N]) / float(N)\n",
    "\n",
    "plt.plot(smooth(episode_durations, 10))\n",
    "plt.title('Episode durations per episode')"
   ]
  },
  {
   "cell_type": "markdown",
   "metadata": {},
   "source": [
    "If you want to test/submit your solution **restart the kernel, run all cells and submit the dqn_autograde.py file into codegrade.**"
   ]
  },
  {
   "cell_type": "code",
   "execution_count": null,
   "metadata": {},
   "outputs": [],
   "source": []
  },
  {
   "cell_type": "code",
   "execution_count": null,
   "metadata": {},
   "outputs": [],
   "source": []
  },
  {
   "cell_type": "code",
   "execution_count": null,
   "metadata": {},
   "outputs": [],
   "source": []
  },
  {
   "cell_type": "code",
   "execution_count": null,
   "metadata": {},
   "outputs": [],
   "source": []
  },
  {
   "cell_type": "code",
   "execution_count": null,
   "metadata": {},
   "outputs": [],
   "source": []
  },
  {
   "cell_type": "code",
   "execution_count": null,
   "metadata": {},
   "outputs": [],
   "source": []
  },
  {
   "cell_type": "code",
   "execution_count": null,
   "metadata": {},
   "outputs": [],
   "source": []
  },
  {
   "cell_type": "code",
   "execution_count": null,
   "metadata": {},
   "outputs": [],
   "source": []
  },
  {
   "cell_type": "code",
   "execution_count": null,
   "metadata": {},
   "outputs": [],
   "source": []
  },
  {
   "cell_type": "code",
   "execution_count": null,
   "metadata": {},
   "outputs": [],
   "source": []
  },
  {
   "cell_type": "code",
   "execution_count": null,
   "metadata": {},
   "outputs": [],
   "source": []
  },
  {
   "cell_type": "code",
   "execution_count": null,
   "metadata": {},
   "outputs": [],
   "source": []
  },
  {
   "cell_type": "code",
   "execution_count": null,
   "metadata": {},
   "outputs": [],
   "source": []
  }
 ],
 "metadata": {
  "celltoolbar": "Create Assignment",
  "kernelspec": {
   "display_name": "Python 3",
   "language": "python",
   "name": "python3"
  },
  "language_info": {
   "codemirror_mode": {
    "name": "ipython",
    "version": 3
   },
   "file_extension": ".py",
   "mimetype": "text/x-python",
   "name": "python",
   "nbconvert_exporter": "python",
   "pygments_lexer": "ipython3",
   "version": "3.7.4"
  }
 },
 "nbformat": 4,
 "nbformat_minor": 2
}
