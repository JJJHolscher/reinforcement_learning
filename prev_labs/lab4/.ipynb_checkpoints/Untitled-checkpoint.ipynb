{
 "cells": [
  {
   "cell_type": "code",
   "execution_count": 25,
   "metadata": {},
   "outputs": [],
   "source": [
    "import numpy as np\n",
    "import torch"
   ]
  },
  {
   "cell_type": "code",
   "execution_count": 58,
   "metadata": {},
   "outputs": [
    {
     "name": "stdout",
     "output_type": "stream",
     "text": [
      "tensor([[0],\n",
      "        [1],\n",
      "        [1],\n",
      "        [0]])\n",
      "tensor([[0.1387, 0.1886],\n",
      "        [0.0949, 0.9634],\n",
      "        [0.4631, 0.9069],\n",
      "        [0.6541, 0.6591]])\n"
     ]
    },
    {
     "data": {
      "text/plain": [
       "tensor([[0.1387],\n",
       "        [0.9634],\n",
       "        [0.9069],\n",
       "        [0.6541]])"
      ]
     },
     "execution_count": 58,
     "metadata": {},
     "output_type": "execute_result"
    }
   ],
   "source": [
    "ints = torch.tensor([0, 1, 1, 0]).unsqueeze(1)\n",
    "predicts = torch.rand(4,2)\n",
    "\n",
    "print(ints)\n",
    "print(predicts)\n",
    "\n",
    "torch.gather(predicts, 1, ints)"
   ]
  },
  {
   "cell_type": "code",
   "execution_count": 108,
   "metadata": {},
   "outputs": [
    {
     "name": "stdout",
     "output_type": "stream",
     "text": [
      "tensor([1, 2])\n"
     ]
    },
    {
     "data": {
      "text/plain": [
       "tensor([  0, 100, 100,   3])"
      ]
     },
     "execution_count": 108,
     "metadata": {},
     "output_type": "execute_result"
    }
   ],
   "source": [
    "ints = torch.tensor([0, 1, 1, 3])\n",
    "# print(ints.shape)\n",
    "\n",
    "\n",
    "\n",
    "index_nrs = (ints == 1).nonzero().squeeze()\n",
    "print(index_nrs)\n",
    "# print(index_nrs.shape)\n",
    "\n",
    "\n",
    "ints.scatter(0, index_nrs, 100)"
   ]
  }
 ],
 "metadata": {
  "kernelspec": {
   "display_name": "Python 3",
   "language": "python",
   "name": "python3"
  },
  "language_info": {
   "codemirror_mode": {
    "name": "ipython",
    "version": 3
   },
   "file_extension": ".py",
   "mimetype": "text/x-python",
   "name": "python",
   "nbconvert_exporter": "python",
   "pygments_lexer": "ipython3",
   "version": "3.7.4"
  }
 },
 "nbformat": 4,
 "nbformat_minor": 2
}
